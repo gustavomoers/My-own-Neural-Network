{
 "cells": [
  {
   "cell_type": "code",
   "execution_count": 10,
   "id": "73498ab1",
   "metadata": {
    "ExecuteTime": {
     "end_time": "2022-11-18T15:10:21.481116Z",
     "start_time": "2022-11-18T15:10:21.450316Z"
    }
   },
   "outputs": [],
   "source": [
    "# Imports\n",
    "import sklearn\n",
    "import numpy as np\n",
    "import pandas as pd\n",
    "import matplotlib\n",
    "import matplotlib.pyplot as plt\n",
    "from sklearn.datasets import load_breast_cancer\n",
    "from sklearn.model_selection import train_test_split\n",
    "from sklearn.metrics import classification_report\n",
    "from NeuralNet import NNmodel, predict"
   ]
  },
  {
   "cell_type": "code",
   "execution_count": 2,
   "id": "30f6afd1",
   "metadata": {
    "ExecuteTime": {
     "end_time": "2022-11-18T15:05:09.653310Z",
     "start_time": "2022-11-18T15:05:09.560147Z"
    }
   },
   "outputs": [],
   "source": [
    "#data loading\n",
    "temp = load_breast_cancer()\n",
    "\n",
    "\n",
    "df = pd.DataFrame(columns = load_breast_cancer()[\"feature_names\"], data = load_breast_cancer()[\"data\"])\n",
    "target = load_breast_cancer()[\"target\"]"
   ]
  },
  {
   "cell_type": "code",
   "execution_count": 3,
   "id": "4efbbeef",
   "metadata": {
    "ExecuteTime": {
     "end_time": "2022-11-18T15:05:09.668947Z",
     "start_time": "2022-11-18T15:05:09.653310Z"
    }
   },
   "outputs": [],
   "source": [
    "# Splitting and reshaping\n",
    "X = np.array(df)\n",
    "\n",
    "X_train, X_test, y_train, y_test = train_test_split(X, target, test_size = 0.15, shuffle = True)\n",
    "\n",
    "X_train = X_train.T\n",
    "X_test = X_test.T\n",
    "\n",
    "y_train = y_train.reshape(1, len(y_train))\n",
    "y_test = y_test.reshape(1, len(y_test))"
   ]
  },
  {
   "cell_type": "code",
   "execution_count": 4,
   "id": "3111f2f4",
   "metadata": {
    "ExecuteTime": {
     "end_time": "2022-11-18T15:05:09.684826Z",
     "start_time": "2022-11-18T15:05:09.671292Z"
    }
   },
   "outputs": [],
   "source": [
    "# layers dimensions\n",
    "dims_layers = [X_train.shape[0], 50, 20, 5, 1]"
   ]
  },
  {
   "cell_type": "code",
   "execution_count": 5,
   "id": "a65e5cce",
   "metadata": {
    "ExecuteTime": {
     "end_time": "2022-11-18T15:05:15.678569Z",
     "start_time": "2022-11-18T15:05:09.909394Z"
    }
   },
   "outputs": [
    {
     "name": "stdout",
     "output_type": "stream",
     "text": [
      "Cost after 0 iterations is 0.6931409444650338\n",
      "Cost after 10 iterations is 0.692018032547223\n",
      "Cost after 20 iterations is 0.6909376816247125\n",
      "Cost after 30 iterations is 0.6898973213855043\n",
      "Cost after 40 iterations is 0.6888947684913742\n",
      "Cost after 50 iterations is 0.6879288150506433\n",
      "Cost after 60 iterations is 0.6869982773496613\n",
      "Cost after 70 iterations is 0.6861018486476723\n",
      "Cost after 80 iterations is 0.6852382154306091\n",
      "Cost after 90 iterations is 0.6844060695209333\n",
      "Cost after 100 iterations is 0.6836042134245336\n",
      "Cost after 110 iterations is 0.6828314748999197\n",
      "Cost after 120 iterations is 0.6820867515908339\n",
      "Cost after 130 iterations is 0.6813689852311411\n",
      "Cost after 140 iterations is 0.6806771276771446\n",
      "Cost after 150 iterations is 0.6800101582545589\n",
      "Cost after 160 iterations is 0.679367126457643\n",
      "Cost after 170 iterations is 0.6787470938076062\n",
      "Cost after 180 iterations is 0.6781491483412614\n",
      "Cost after 190 iterations is 0.6775724007936147\n",
      "Cost after 200 iterations is 0.6770159932274623\n",
      "Cost after 210 iterations is 0.6764790920586735\n",
      "Cost after 220 iterations is 0.6759608820439519\n",
      "Cost after 230 iterations is 0.6754605645476701\n",
      "Cost after 240 iterations is 0.6749773548751855\n",
      "Cost after 250 iterations is 0.674510482536462\n",
      "Cost after 260 iterations is 0.6740591833431745\n",
      "Cost after 270 iterations is 0.6736227013292468\n",
      "Cost after 280 iterations is 0.6732002866896362\n",
      "Cost after 290 iterations is 0.6727911641983799\n",
      "Cost after 300 iterations is 0.6723945444603141\n",
      "Cost after 310 iterations is 0.6720095371410654\n",
      "Cost after 320 iterations is 0.6716347864029896\n",
      "Cost after 330 iterations is 0.6712700308186577\n",
      "Cost after 340 iterations is 0.6709152696908135\n",
      "Cost after 350 iterations is 0.6705691789541974\n",
      "Cost after 360 iterations is 0.6702308518654473\n",
      "Cost after 370 iterations is 0.6698990377047914\n",
      "Cost after 380 iterations is 0.669572166286572\n",
      "Cost after 390 iterations is 0.6692486261974867\n",
      "Cost after 400 iterations is 0.6689265353438824\n",
      "Cost after 410 iterations is 0.6686036306958238\n",
      "Cost after 420 iterations is 0.668277136176769\n",
      "Cost after 430 iterations is 0.6679435127964697\n",
      "Cost after 440 iterations is 0.6675982489676584\n",
      "Cost after 450 iterations is 0.6672356186895126\n",
      "Cost after 460 iterations is 0.6668474215436692\n",
      "Cost after 470 iterations is 0.6664222668040469\n",
      "Cost after 480 iterations is 0.6659440819573332\n",
      "Cost after 490 iterations is 0.6653893495666624\n",
      "Cost after 500 iterations is 0.6647225236971354\n",
      "Cost after 510 iterations is 0.6638880730200781\n",
      "Cost after 520 iterations is 0.6627958837597537\n",
      "Cost after 530 iterations is 0.6612939711797408\n",
      "Cost after 540 iterations is 0.6591181492742109\n",
      "Cost after 550 iterations is 0.6557997738863469\n",
      "Cost after 560 iterations is 0.6505040814489547\n",
      "Cost after 570 iterations is 0.6420503352476009\n",
      "Cost after 580 iterations is 0.6302293974570042\n",
      "Cost after 590 iterations is 0.6191701910600077\n",
      "Cost after 600 iterations is 0.6132064142868618\n",
      "Cost after 610 iterations is 0.6099297589902544\n",
      "Cost after 620 iterations is 0.6071050901470115\n",
      "Cost after 630 iterations is 0.6043060552902421\n",
      "Cost after 640 iterations is 0.6014880280656661\n",
      "Cost after 650 iterations is 0.5986423018850688\n",
      "Cost after 660 iterations is 0.595761806841811\n",
      "Cost after 670 iterations is 0.5928384158220174\n",
      "Cost after 680 iterations is 0.5898624476041947\n",
      "Cost after 690 iterations is 0.5868219401375885\n",
      "Cost after 700 iterations is 0.5837018588833994\n",
      "Cost after 710 iterations is 0.5804828221410042\n",
      "Cost after 720 iterations is 0.5771419726999627\n",
      "Cost after 730 iterations is 0.573647591573998\n",
      "Cost after 740 iterations is 0.5699561425082079\n",
      "Cost after 750 iterations is 0.5660108346499553\n",
      "Cost after 760 iterations is 0.5617332337612316\n",
      "Cost after 770 iterations is 0.5570133490931537\n",
      "Cost after 780 iterations is 0.5516954313955625\n",
      "Cost after 790 iterations is 0.5455566400380313\n",
      "Cost after 800 iterations is 0.538278117350339\n",
      "Cost after 810 iterations is 0.5294081777818649\n",
      "Cost after 820 iterations is 0.5183300271747288\n",
      "Cost after 830 iterations is 0.5042549473056973\n",
      "Cost after 840 iterations is 0.48651952746831034\n",
      "Cost after 850 iterations is 0.4654282613516637\n",
      "Cost after 860 iterations is 0.44377663160235353\n",
      "Cost after 870 iterations is 0.45001248799807697\n",
      "Cost after 880 iterations is 0.4800925078212135\n",
      "Cost after 890 iterations is 0.4593125268050262\n",
      "Cost after 900 iterations is 0.4563364280316256\n",
      "Cost after 910 iterations is 0.4485865374343712\n",
      "Cost after 920 iterations is 0.4436232036175873\n",
      "Cost after 930 iterations is 0.4410184679705003\n",
      "Cost after 940 iterations is 0.4365221258281961\n",
      "Cost after 950 iterations is 0.4323315623872588\n",
      "Cost after 960 iterations is 0.42746286891814533\n",
      "Cost after 970 iterations is 0.423529077069921\n",
      "Cost after 980 iterations is 0.4196335690476155\n",
      "Cost after 990 iterations is 0.4100517481655576\n",
      "Cost after 1000 iterations is 0.4123732482801216\n",
      "Cost after 1010 iterations is 0.39564602100175206\n",
      "Cost after 1020 iterations is 0.3972770955666079\n",
      "Cost after 1030 iterations is 0.3905614627934095\n",
      "Cost after 1040 iterations is 0.38561974208358923\n",
      "Cost after 1050 iterations is 0.3833039745438427\n",
      "Cost after 1060 iterations is 0.3752451629931826\n",
      "Cost after 1070 iterations is 0.38089562615619665\n",
      "Cost after 1080 iterations is 0.36732547133186394\n",
      "Cost after 1090 iterations is 0.374748612013808\n",
      "Cost after 1100 iterations is 0.35900155654824534\n",
      "Cost after 1110 iterations is 0.36595205828967964\n",
      "Cost after 1120 iterations is 0.3610210944245363\n",
      "Cost after 1130 iterations is 0.3568687211240973\n",
      "Cost after 1140 iterations is 0.3553839155250738\n",
      "Cost after 1150 iterations is 0.3496454753154152\n",
      "Cost after 1160 iterations is 0.34757905949425966\n",
      "Cost after 1170 iterations is 0.34369080853417383\n",
      "Cost after 1180 iterations is 0.34417699079025565\n",
      "Cost after 1190 iterations is 0.34057274979685165\n",
      "Cost after 1200 iterations is 0.3413847384908986\n",
      "Cost after 1210 iterations is 0.33764306313727194\n",
      "Cost after 1220 iterations is 0.33601053385348084\n",
      "Cost after 1230 iterations is 0.33258568796767524\n",
      "Cost after 1240 iterations is 0.33509111375565004\n",
      "Cost after 1250 iterations is 0.3313073575466195\n",
      "Cost after 1260 iterations is 0.3313962554218118\n",
      "Cost after 1270 iterations is 0.3298336040941194\n",
      "Cost after 1280 iterations is 0.33170304765332437\n",
      "Cost after 1290 iterations is 0.325581669471951\n",
      "Cost after 1300 iterations is 0.32900193828580776\n",
      "Cost after 1310 iterations is 0.32549681430900557\n",
      "Cost after 1320 iterations is 0.3257339317668586\n",
      "Cost after 1330 iterations is 0.3187854826890331\n",
      "Cost after 1340 iterations is 0.303037273172632\n",
      "Cost after 1350 iterations is 0.29952633953166813\n",
      "Cost after 1360 iterations is 0.3036057767146297\n",
      "Cost after 1370 iterations is 0.30561567412940516\n",
      "Cost after 1380 iterations is 0.2966475157186647\n",
      "Cost after 1390 iterations is 0.30473149290906293\n",
      "Cost after 1400 iterations is 0.29931470510456887\n",
      "Cost after 1410 iterations is 0.30779603484212376\n",
      "Cost after 1420 iterations is 0.3005049331927\n",
      "Cost after 1430 iterations is 0.30274610146412007\n",
      "Cost after 1440 iterations is 0.30179881824715227\n",
      "Cost after 1450 iterations is 0.29611624671648945\n",
      "Cost after 1460 iterations is 0.30288909536213926\n",
      "Cost after 1470 iterations is 0.30241374419622913\n",
      "Cost after 1480 iterations is 0.30131416480626716\n",
      "Cost after 1490 iterations is 0.3001705705772373\n",
      "Cost after 1500 iterations is 0.3034326516458858\n",
      "Cost after 1510 iterations is 0.29853052547829023\n",
      "Cost after 1520 iterations is 0.2996252598922635\n",
      "Cost after 1530 iterations is 0.2943011764357245\n",
      "Cost after 1540 iterations is 0.30064573673932904\n",
      "Cost after 1550 iterations is 0.2949250887074931\n",
      "Cost after 1560 iterations is 0.2880518358341256\n",
      "Cost after 1570 iterations is 0.28070147573772986\n",
      "Cost after 1580 iterations is 0.2836172272209979\n",
      "Cost after 1590 iterations is 0.2789548610541845\n",
      "Cost after 1600 iterations is 0.279994669538209\n",
      "Cost after 1610 iterations is 0.2823302593221422\n",
      "Cost after 1620 iterations is 0.27413294546916783\n",
      "Cost after 1630 iterations is 0.28252324986216526\n",
      "Cost after 1640 iterations is 0.27344014772445485\n",
      "Cost after 1650 iterations is 0.27967428924005994\n",
      "Cost after 1660 iterations is 0.28075778679966895\n",
      "Cost after 1670 iterations is 0.27118556666788424\n",
      "Cost after 1680 iterations is 0.27851892573570847\n",
      "Cost after 1690 iterations is 0.2750814884970845\n",
      "Cost after 1700 iterations is 0.27900444365072097\n",
      "Cost after 1710 iterations is 0.2716436640512953\n",
      "Cost after 1720 iterations is 0.27322686542068353\n",
      "Cost after 1730 iterations is 0.2757573863650485\n",
      "Cost after 1740 iterations is 0.2739116637210661\n",
      "Cost after 1750 iterations is 0.27454034496652013\n",
      "Cost after 1760 iterations is 0.27087020609106205\n"
     ]
    },
    {
     "name": "stdout",
     "output_type": "stream",
     "text": [
      "Cost after 1770 iterations is 0.27346798424445384\n",
      "Cost after 1780 iterations is 0.27237466894052687\n",
      "Cost after 1790 iterations is 0.2703020364842961\n",
      "Cost after 1800 iterations is 0.2723282699496766\n",
      "Cost after 1810 iterations is 0.2659896176808562\n",
      "Cost after 1820 iterations is 0.2616472924308572\n",
      "Cost after 1830 iterations is 0.26035274843049194\n",
      "Cost after 1840 iterations is 0.25992895682139205\n",
      "Cost after 1850 iterations is 0.2593554551881153\n",
      "Cost after 1860 iterations is 0.2590378202413085\n",
      "Cost after 1870 iterations is 0.25829430217149413\n",
      "Cost after 1880 iterations is 0.2574325028588211\n",
      "Cost after 1890 iterations is 0.2577272971280416\n",
      "Cost after 1900 iterations is 0.25657746531844694\n",
      "Cost after 1910 iterations is 0.25621136802724986\n",
      "Cost after 1920 iterations is 0.2552214445285146\n",
      "Cost after 1930 iterations is 0.25652380667335517\n",
      "Cost after 1940 iterations is 0.2558307444279433\n",
      "Cost after 1950 iterations is 0.25423529724636856\n",
      "Cost after 1960 iterations is 0.25280552626450653\n",
      "Cost after 1970 iterations is 0.25236330589362027\n",
      "Cost after 1980 iterations is 0.2519213239205412\n",
      "Cost after 1990 iterations is 0.252227316451702\n",
      "Cost after 2000 iterations is 0.25125277603371315\n",
      "Cost after 2010 iterations is 0.25174485841259625\n",
      "Cost after 2020 iterations is 0.252421056924784\n",
      "Cost after 2030 iterations is 0.2497914888385427\n",
      "Cost after 2040 iterations is 0.24881370872461497\n",
      "Cost after 2050 iterations is 0.24313729843323859\n",
      "Cost after 2060 iterations is 0.24153621228165914\n",
      "Cost after 2070 iterations is 0.24128626274023515\n",
      "Cost after 2080 iterations is 0.24068402900894267\n",
      "Cost after 2090 iterations is 0.24022241550695758\n",
      "Cost after 2100 iterations is 0.23992079389195942\n",
      "Cost after 2110 iterations is 0.23923432631217056\n",
      "Cost after 2120 iterations is 0.2388068959428378\n",
      "Cost after 2130 iterations is 0.23829831514939803\n",
      "Cost after 2140 iterations is 0.23842774040998863\n",
      "Cost after 2150 iterations is 0.23784892673676142\n",
      "Cost after 2160 iterations is 0.23778943026780483\n",
      "Cost after 2170 iterations is 0.23873671575222674\n",
      "Cost after 2180 iterations is 0.24350221286278637\n",
      "Cost after 2190 iterations is 0.24739929965566082\n",
      "Cost after 2200 iterations is 0.25103149209656883\n",
      "Cost after 2210 iterations is 0.24705729853640682\n",
      "Cost after 2220 iterations is 0.24012258001387962\n",
      "Cost after 2230 iterations is 0.24029770028757325\n",
      "Cost after 2240 iterations is 0.2395871310081106\n",
      "Cost after 2250 iterations is 0.24035244373282233\n",
      "Cost after 2260 iterations is 0.2400338645342927\n",
      "Cost after 2270 iterations is 0.23688957964298774\n",
      "Cost after 2280 iterations is 0.23555297611377807\n",
      "Cost after 2290 iterations is 0.2391659444293418\n",
      "Cost after 2300 iterations is 0.2395898351068397\n",
      "Cost after 2310 iterations is 0.23772446182443135\n",
      "Cost after 2320 iterations is 0.23779062145262747\n",
      "Cost after 2330 iterations is 0.23891020703251734\n",
      "Cost after 2340 iterations is 0.23727576525861613\n",
      "Cost after 2350 iterations is 0.2374673794792309\n",
      "Cost after 2360 iterations is 0.2379777230667222\n",
      "Cost after 2370 iterations is 0.238556811468943\n",
      "Cost after 2380 iterations is 0.2400781207468609\n",
      "Cost after 2390 iterations is 0.23792086070534516\n",
      "Cost after 2400 iterations is 0.23890949029287728\n",
      "Cost after 2410 iterations is 0.2372457446708427\n",
      "Cost after 2420 iterations is 0.23742542989637896\n",
      "Cost after 2430 iterations is 0.23768888314214268\n",
      "Cost after 2440 iterations is 0.2378880449030655\n",
      "Cost after 2450 iterations is 0.23638871379390647\n",
      "Cost after 2460 iterations is 0.23389061524277857\n",
      "Cost after 2470 iterations is 0.23390356315794508\n",
      "Cost after 2480 iterations is 0.2315020999526779\n",
      "Cost after 2490 iterations is 0.2322108477441357\n",
      "Cost after 2500 iterations is 0.2323345751596153\n",
      "Cost after 2510 iterations is 0.23088864133981316\n",
      "Cost after 2520 iterations is 0.23022096306592252\n",
      "Cost after 2530 iterations is 0.23243646143287267\n",
      "Cost after 2540 iterations is 0.23118529666699428\n",
      "Cost after 2550 iterations is 0.2307451167125282\n",
      "Cost after 2560 iterations is 0.2309601431857051\n",
      "Cost after 2570 iterations is 0.23073561067981363\n",
      "Cost after 2580 iterations is 0.22921964759918312\n",
      "Cost after 2590 iterations is 0.22922532870748935\n",
      "Cost after 2600 iterations is 0.22905023977738637\n",
      "Cost after 2610 iterations is 0.22990886049556877\n",
      "Cost after 2620 iterations is 0.2282965367227816\n",
      "Cost after 2630 iterations is 0.22880982043060297\n",
      "Cost after 2640 iterations is 0.22952549607931033\n",
      "Cost after 2650 iterations is 0.22747869571656676\n",
      "Cost after 2660 iterations is 0.2286364995285915\n",
      "Cost after 2670 iterations is 0.2280176949861609\n",
      "Cost after 2680 iterations is 0.22665810923560858\n",
      "Cost after 2690 iterations is 0.22655175979793335\n",
      "Cost after 2700 iterations is 0.22630969825574582\n",
      "Cost after 2710 iterations is 0.2256454978573187\n",
      "Cost after 2720 iterations is 0.22572084909594545\n",
      "Cost after 2730 iterations is 0.22655813029472988\n",
      "Cost after 2740 iterations is 0.22613795612542592\n",
      "Cost after 2750 iterations is 0.22540769686076886\n",
      "Cost after 2760 iterations is 0.22524904017606515\n",
      "Cost after 2770 iterations is 0.2243111584766866\n",
      "Cost after 2780 iterations is 0.2243373265679459\n",
      "Cost after 2790 iterations is 0.22556987668396106\n",
      "Cost after 2800 iterations is 0.22421353924354417\n",
      "Cost after 2810 iterations is 0.22520347053278533\n",
      "Cost after 2820 iterations is 0.22537643227362522\n",
      "Cost after 2830 iterations is 0.22465495950354655\n",
      "Cost after 2840 iterations is 0.22512370490712302\n",
      "Cost after 2850 iterations is 0.22442103368102298\n",
      "Cost after 2860 iterations is 0.22429735003931298\n",
      "Cost after 2870 iterations is 0.22422833020437444\n",
      "Cost after 2880 iterations is 0.21960823452667327\n",
      "Cost after 2890 iterations is 0.2224087570973894\n",
      "Cost after 2900 iterations is 0.22191500288292512\n",
      "Cost after 2910 iterations is 0.21983772363043597\n",
      "Cost after 2920 iterations is 0.21900907192350488\n",
      "Cost after 2930 iterations is 0.21974073580806136\n",
      "Cost after 2940 iterations is 0.21999071445722984\n",
      "Cost after 2950 iterations is 0.21966359419566062\n",
      "Cost after 2960 iterations is 0.2198816942460454\n",
      "Cost after 2970 iterations is 0.21953720747616345\n",
      "Cost after 2980 iterations is 0.21985399505481393\n",
      "Cost after 2990 iterations is 0.2203096019748279\n"
     ]
    }
   ],
   "source": [
    "# Training\n",
    "\n",
    "parameters, cost = NNmodel(X = X_train, \n",
    "                             Y = y_train, \n",
    "                             dims_layers = dims_layers, \n",
    "                             num_iterations = 3000, \n",
    "                             learning_rate = 0.0075,)"
   ]
  },
  {
   "cell_type": "code",
   "execution_count": 7,
   "id": "8e164410",
   "metadata": {
    "ExecuteTime": {
     "end_time": "2022-11-18T15:06:56.037432Z",
     "start_time": "2022-11-18T15:06:55.351274Z"
    }
   },
   "outputs": [
    {
     "data": {
      "text/plain": [
       "[<matplotlib.lines.Line2D at 0x15cdbb3d6c8>]"
      ]
     },
     "execution_count": 7,
     "metadata": {},
     "output_type": "execute_result"
    },
    {
     "data": {
      "image/png": "[encoded data removed]",
      "text/plain": [
       "<Figure size 432x288 with 1 Axes>"
      ]
     },
     "metadata": {
      "needs_background": "light"
     },
     "output_type": "display_data"
    }
   ],
   "source": [
    "# Plot\n",
    "plt.plot(cost)"
   ]
  },
  {
   "cell_type": "code",
   "execution_count": 6,
   "id": "dc81d538",
   "metadata": {
    "ExecuteTime": {
     "end_time": "2022-11-18T15:06:29.853530Z",
     "start_time": "2022-11-18T15:06:29.837833Z"
    }
   },
   "outputs": [],
   "source": [
    "# Great! As the cost is deacreasing on each iteration our model is working!!"
   ]
  },
  {
   "cell_type": "code",
   "execution_count": 12,
   "id": "44b6bfed",
   "metadata": {
    "ExecuteTime": {
     "end_time": "2022-11-18T15:10:35.183716Z",
     "start_time": "2022-11-18T15:10:35.151934Z"
    }
   },
   "outputs": [
    {
     "name": "stdout",
     "output_type": "stream",
     "text": [
      "Acurracy on Train: 92.96066252587993\n"
     ]
    }
   ],
   "source": [
    "# Calculating Acurracy on Train Data\n",
    "\n",
    "y_pred_train = predict(X_train, parameters)\n",
    "y_pred_train = y_pred_train.reshape(-1)\n",
    "y_train = y_train.reshape(-1)\n",
    "\n",
    "\n",
    "y_pred_train = 1 * (y_pred_train > 0.5)\n",
    "\n",
    "\n",
    "acc_train = sum(1 * (y_pred_train == y_train)) / len(y_pred_train) * 100\n",
    "\n",
    "print(\"Acurracy on Train: \" + str(acc_train))"
   ]
  },
  {
   "cell_type": "code",
   "execution_count": 13,
   "id": "81f59a45",
   "metadata": {
    "ExecuteTime": {
     "end_time": "2022-11-18T15:11:15.782997Z",
     "start_time": "2022-11-18T15:11:15.750913Z"
    }
   },
   "outputs": [
    {
     "name": "stdout",
     "output_type": "stream",
     "text": [
      "              precision    recall  f1-score   support\n",
      "\n",
      "           -       0.97      0.84      0.90       182\n",
      "           +       0.91      0.98      0.95       301\n",
      "\n",
      "    accuracy                           0.93       483\n",
      "   macro avg       0.94      0.91      0.92       483\n",
      "weighted avg       0.93      0.93      0.93       483\n",
      "\n"
     ]
    }
   ],
   "source": [
    "# Train confusion matrix\n",
    "print(classification_report(y_train, y_pred_train, target_names = ['-', '+']))"
   ]
  },
  {
   "cell_type": "code",
   "execution_count": 15,
   "id": "64fbdca1",
   "metadata": {
    "ExecuteTime": {
     "end_time": "2022-11-18T15:13:41.348936Z",
     "start_time": "2022-11-18T15:13:41.318550Z"
    }
   },
   "outputs": [
    {
     "name": "stdout",
     "output_type": "stream",
     "text": [
      "Acurracy on test: 91.86046511627907\n"
     ]
    }
   ],
   "source": [
    "# Accuracy on Test Data\n",
    "\n",
    "y_pred_test = predict(X_test, parameters)\n",
    "\n",
    "y_pred_test = y_pred_test.reshape(-1)\n",
    "y_test = y_test.reshape(-1)\n",
    "\n",
    "y_pred_test = 1 * (y_pred_test > 0.5)\n",
    "\n",
    "acc_test = sum(1 * (y_pred_test == y_test)) / len(y_pred_test) * 100\n",
    "\n",
    "print(\"Acurracy on test: \" + str(acc_test))"
   ]
  },
  {
   "cell_type": "code",
   "execution_count": 16,
   "id": "ed7072b2",
   "metadata": {
    "ExecuteTime": {
     "end_time": "2022-11-18T15:14:06.505430Z",
     "start_time": "2022-11-18T15:14:06.473914Z"
    }
   },
   "outputs": [
    {
     "name": "stdout",
     "output_type": "stream",
     "text": [
      "              precision    recall  f1-score   support\n",
      "\n",
      "           -       0.96      0.80      0.87        30\n",
      "           +       0.90      0.98      0.94        56\n",
      "\n",
      "    accuracy                           0.92        86\n",
      "   macro avg       0.93      0.89      0.91        86\n",
      "weighted avg       0.92      0.92      0.92        86\n",
      "\n"
     ]
    }
   ],
   "source": [
    "# Confusion Matrix on Test\n",
    "\n",
    "print(classification_report(y_test, y_pred_test, target_names = ['-', '+']))"
   ]
  }
 ],
 "metadata": {
  "kernelspec": {
   "display_name": "Python 3 (ipykernel)",
   "language": "python",
   "name": "python3"
  },
  "language_info": {
   "codemirror_mode": {
    "name": "ipython",
    "version": 3
   },
   "file_extension": ".py",
   "mimetype": "text/x-python",
   "name": "python",
   "nbconvert_exporter": "python",
   "pygments_lexer": "ipython3",
   "version": "3.7.13"
  },
  "toc": {
   "base_numbering": 1,
   "nav_menu": {},
   "number_sections": true,
   "sideBar": true,
   "skip_h1_title": false,
   "title_cell": "Table of Contents",
   "title_sidebar": "Contents",
   "toc_cell": false,
   "toc_position": {},
   "toc_section_display": true,
   "toc_window_display": false
  }
 },
 "nbformat": 4,
 "nbformat_minor": 5
}
