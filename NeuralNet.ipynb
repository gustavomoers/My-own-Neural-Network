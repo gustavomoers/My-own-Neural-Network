{
 "cells": [
  {
   "cell_type": "code",
   "execution_count": 1,
   "id": "524bde90",
   "metadata": {
    "ExecuteTime": {
     "end_time": "2022-11-18T14:17:06.965297Z",
     "start_time": "2022-11-18T14:17:06.664130Z"
    }
   },
   "outputs": [],
   "source": [
    "import numpy as np"
   ]
  },
  {
   "cell_type": "code",
   "execution_count": 2,
   "id": "cee44a9c",
   "metadata": {
    "ExecuteTime": {
     "end_time": "2022-11-18T14:19:07.453353Z",
     "start_time": "2022-11-18T14:19:07.429501Z"
    }
   },
   "outputs": [],
   "source": [
    "# parameter inicialization\n",
    "def parameters_init(dims_input_layer):\n",
    "    \n",
    "    parameters = {}\n",
    "    \n",
    "    comp = len(dims_input_layer)\n",
    "\n",
    "    for i in range(1, comp):\n",
    "        \n",
    "        # weights\n",
    "        parameters[\"W\" + str(i)] = np.random.randn(dims_input_layer[i], dims_input_layer[i - 1]) * 0.01\n",
    "        \n",
    "        # bias\n",
    "        parameters[\"b\" + str(i)] = np.zeros((dims_input_layer[i], 1))\n",
    "    \n",
    "    return parameters"
   ]
  },
  {
   "cell_type": "code",
   "execution_count": 3,
   "id": "1208b289",
   "metadata": {
    "ExecuteTime": {
     "end_time": "2022-11-18T14:19:38.902707Z",
     "start_time": "2022-11-18T14:19:38.873547Z"
    }
   },
   "outputs": [],
   "source": [
    "# Sigmoid function\n",
    "def sigmoid(Z):\n",
    "    A = 1 / (1 + np.exp(-Z))\n",
    "    return A, Z"
   ]
  },
  {
   "cell_type": "code",
   "execution_count": 4,
   "id": "b3961a63",
   "metadata": {
    "ExecuteTime": {
     "end_time": "2022-11-18T14:20:07.119820Z",
     "start_time": "2022-11-18T14:20:07.106503Z"
    }
   },
   "outputs": [],
   "source": [
    "# ReLu (Rectified Linear Unit)\n",
    "def relu(Z):\n",
    "    A = abs(Z * (Z > 0))\n",
    "    return A, Z"
   ]
  },
  {
   "cell_type": "code",
   "execution_count": 5,
   "id": "3e9fb64a",
   "metadata": {
    "ExecuteTime": {
     "end_time": "2022-11-18T14:20:52.867263Z",
     "start_time": "2022-11-18T14:20:52.851337Z"
    }
   },
   "outputs": [],
   "source": [
    "# Activation\n",
    "# A is input layer\n",
    "# W is weights\n",
    "# b is bias\n",
    "def linear_activation(A, W, b):\n",
    "    Z = np.dot(W, A) + b\n",
    "    cache = (A, W, b)\n",
    "    return Z, cache"
   ]
  },
  {
   "cell_type": "code",
   "execution_count": 6,
   "id": "f9189585",
   "metadata": {
    "ExecuteTime": {
     "end_time": "2022-11-18T14:21:36.213312Z",
     "start_time": "2022-11-18T14:21:36.181456Z"
    }
   },
   "outputs": [],
   "source": [
    "# Forward \n",
    "def forward(A_prev, W, b, activation):\n",
    "    \n",
    "    if activation == \"sigmoid\":\n",
    "        Z, linear_cache = linear_activation(A_prev, W, b)\n",
    "        A, activation_cache = sigmoid(Z)\n",
    "        \n",
    "    elif activation == \"relu\":\n",
    "        Z, linear_cache = linear_activation(A_prev, W, b)\n",
    "        A, activation_cache = relu(Z)\n",
    "        \n",
    "    cache = (linear_cache, activation_cache)\n",
    "    \n",
    "    return A, cache"
   ]
  },
  {
   "cell_type": "code",
   "execution_count": 7,
   "id": "4d60fcd6",
   "metadata": {
    "ExecuteTime": {
     "end_time": "2022-11-18T14:23:11.223263Z",
     "start_time": "2022-11-18T14:23:11.191508Z"
    }
   },
   "outputs": [],
   "source": [
    "# Forward Propragation\n",
    "def forward_propagation(X, parameters):\n",
    "    \n",
    "    caches = []\n",
    "\n",
    "    A = X\n",
    "    \n",
    "    L = len(parameters) // 2\n",
    "\n",
    "    for i in range(1, L):\n",
    "      \n",
    "        A_prev = A\n",
    "        \n",
    "        A, cache = forward(A_prev, parameters[\"W\" + str(i)], parameters[\"b\" + str(i)], activation = \"relu\")\n",
    "        \n",
    "        caches.append(cache)\n",
    "    \n",
    "    # Output layer\n",
    "    A_last, cache = forward(A, parameters[\"W\" + str(L)], parameters[\"b\" + str(L)], activation = \"sigmoid\")\n",
    "    \n",
    "    caches.append(cache)\n",
    "    \n",
    "    return(A_last, caches)"
   ]
  },
  {
   "cell_type": "code",
   "execution_count": 33,
   "id": "b260f4d0",
   "metadata": {
    "ExecuteTime": {
     "end_time": "2022-11-18T14:44:02.871234Z",
     "start_time": "2022-11-18T14:44:02.860894Z"
    }
   },
   "outputs": [],
   "source": [
    "# Cross- entropy cost function\n",
    "def cross_entropy(A_last, Y):\n",
    "    \n",
    "    m = Y.shape[1]\n",
    "    \n",
    "    cost = (-1 / m) * np.sum((Y * np.log(A_last)) + ((1 - Y) * np.log(1 - A_last)))\n",
    "    \n",
    "    cost = np.squeeze(cost)\n",
    "    \n",
    "    return(cost)"
   ]
  },
  {
   "cell_type": "code",
   "execution_count": 34,
   "id": "6ef48cc5",
   "metadata": {
    "ExecuteTime": {
     "end_time": "2022-11-18T14:44:04.702273Z",
     "start_time": "2022-11-18T14:44:04.679893Z"
    }
   },
   "outputs": [],
   "source": [
    "# Sigmoid Derivatite - Backpropagation\n",
    "def sigmoid_backward(da, Z):\n",
    "    \n",
    "    dg = (1 / (1 + np.exp(-Z))) * (1 - (1 / (1 + np.exp(-Z))))\n",
    "    \n",
    "    dz = da * dg\n",
    "    return dz\n"
   ]
  },
  {
   "cell_type": "code",
   "execution_count": 35,
   "id": "77128461",
   "metadata": {
    "ExecuteTime": {
     "end_time": "2022-11-18T14:44:06.438194Z",
     "start_time": "2022-11-18T14:44:06.422241Z"
    }
   },
   "outputs": [],
   "source": [
    "# Relu Derivativate - Backprogagation\n",
    "def relu_backward(da, Z):\n",
    "    \n",
    "    dg = 1 * ( Z >= 0)\n",
    "    dz = da * dg\n",
    "    return dz"
   ]
  },
  {
   "cell_type": "code",
   "execution_count": 36,
   "id": "7915ce66",
   "metadata": {
    "ExecuteTime": {
     "end_time": "2022-11-18T14:44:07.324292Z",
     "start_time": "2022-11-18T14:44:07.305958Z"
    }
   },
   "outputs": [],
   "source": [
    "# Linear Backward Function\n",
    "def linear_backward_function(dz, cache):\n",
    "    \n",
    "    A_prev, W, b = cache\n",
    "    \n",
    "    m = A_prev.shape[1]\n",
    "    \n",
    "    dW = (1 / m) * np.dot(dz, A_prev.T)\n",
    "    \n",
    "    db = (1 / m) * np.sum(dz, axis = 1, keepdims = True)\n",
    "    \n",
    "    dA_prev = np.dot(W.T, dz)\n",
    "    \n",
    "    return dA_prev, dW, db"
   ]
  },
  {
   "cell_type": "code",
   "execution_count": 37,
   "id": "1d32dbeb",
   "metadata": {
    "ExecuteTime": {
     "end_time": "2022-11-18T14:44:08.308193Z",
     "start_time": "2022-11-18T14:44:08.276106Z"
    }
   },
   "outputs": [],
   "source": [
    "# Linear Backward Activation\n",
    "def linear_activation_backward(dA, cache, activation):\n",
    "    \n",
    "    linear_cache, activation_cache = cache\n",
    "\n",
    "    if activation == \"relu\":\n",
    "        dZ = relu_backward(dA, activation_cache)\n",
    "        dA_prev, dW, db = linear_backward_function(dZ, linear_cache)\n",
    "\n",
    "    if activation == \"sigmoid\":\n",
    "        dZ = sigmoid_backward(dA, activation_cache)\n",
    "        dA_prev, dW, db = linear_backward_function(dZ, linear_cache)\n",
    "        \n",
    "    return dA_prev, dW, db"
   ]
  },
  {
   "cell_type": "code",
   "execution_count": 38,
   "id": "cb1ba6aa",
   "metadata": {
    "ExecuteTime": {
     "end_time": "2022-11-18T14:44:11.498821Z",
     "start_time": "2022-11-18T14:44:11.476533Z"
    }
   },
   "outputs": [],
   "source": [
    "# Backpropagation Algorithm\n",
    "# AL = predicted output\n",
    "# Y = real value\n",
    "def backward_propagation(AL, Y, caches):\n",
    "    \n",
    "    grads = {}\n",
    "    \n",
    "    L = len(caches)\n",
    "\n",
    "    m = AL.shape[1]\n",
    "\n",
    "    Y = Y.reshape(AL.shape)\n",
    "\n",
    "    dAL = -((Y / AL) - ((1 - Y) / (1 - AL)))\n",
    "\n",
    "    current_cache = caches[L - 1]\n",
    "    \n",
    "    # gradients\n",
    "    grads[\"dA\" + str(L - 1)], grads[\"dW\" + str(L)], grads[\"db\" + str(L)] = linear_activation_backward(dAL, current_cache, activation = \"sigmoid\")\n",
    "\n",
    "    for l in reversed(range(L - 1)):\n",
    "\n",
    "        current_cache = caches[l]\n",
    "\n",
    "        dA_prev, dW, db = linear_activation_backward(grads[\"dA\" + str(l + 1)], current_cache, activation = \"relu\")\n",
    "\n",
    "        grads[\"dA\" + str(l)] = dA_prev\n",
    "        grads[\"dW\" + str(l + 1)] = dW\n",
    "        grads[\"db\" + str(l + 1)] = db\n",
    "        \n",
    "    return grads"
   ]
  },
  {
   "cell_type": "code",
   "execution_count": 39,
   "id": "2d522a89",
   "metadata": {
    "ExecuteTime": {
     "end_time": "2022-11-18T14:44:12.836162Z",
     "start_time": "2022-11-18T14:44:12.804957Z"
    }
   },
   "outputs": [],
   "source": [
    "# Updating weights and biass\n",
    "def weight_update(parameters, grads, learning_rate):\n",
    "    \n",
    "    L = len(parameters)//2\n",
    "\n",
    "    for l in range(L):\n",
    "\n",
    "        parameters[\"W\" + str(l + 1)] = parameters[\"W\" + str(l + 1)] - (learning_rate * grads[\"dW\" + str(l + 1)])\n",
    "\n",
    "        parameters[\"b\" + str(l + 1)] = parameters[\"b\" + str(l + 1)] - (learning_rate * grads[\"db\" + str(l + 1)])\n",
    "    \n",
    "    return parameters"
   ]
  },
  {
   "cell_type": "code",
   "execution_count": 40,
   "id": "767aab0c",
   "metadata": {
    "ExecuteTime": {
     "end_time": "2022-11-18T14:44:22.943117Z",
     "start_time": "2022-11-18T14:44:22.895902Z"
    }
   },
   "outputs": [],
   "source": [
    "# Neural Network\n",
    "def NNmodel(X, Y, dims_input_layer, learning_rate = 0.0075, num_iterations = 100):\n",
    "    \n",
    "    costs = []\n",
    "    \n",
    "    parameters = parameters_init(dims_input_layer)\n",
    "    \n",
    "    for i in range(num_iterations):\n",
    "        \n",
    "        # Forward Propagation\n",
    "        AL, caches = forward_propagation(X, parameters)\n",
    "        \n",
    "        # Cost function\n",
    "        cost = cross_entropy(AL, Y)\n",
    "        \n",
    "        # Backward Propagation\n",
    "        gradients = backward_propagation(AL, Y, caches)\n",
    "        \n",
    "        # Updating weights\n",
    "        parameters = weight_update(parameters, gradients, learning_rate)\n",
    "        \n",
    "        # Print for control\n",
    "        if i % 10 == 0:\n",
    "            print(\"Cost after \" + str(i) + \" iterations is \" + str(cost))\n",
    "            costs.append(cost)\n",
    "            \n",
    "    return parameters, costs "
   ]
  },
  {
   "cell_type": "code",
   "execution_count": 41,
   "id": "37c577c6",
   "metadata": {
    "ExecuteTime": {
     "end_time": "2022-11-18T14:44:23.875540Z",
     "start_time": "2022-11-18T14:44:23.859599Z"
    }
   },
   "outputs": [],
   "source": [
    "# Prediction Function\n",
    "\n",
    "def predict(X, parameters):\n",
    "    AL, caches = forward_propagation(X, parameters)\n",
    "    return AL"
   ]
  }
 ],
 "metadata": {
  "kernelspec": {
   "display_name": "Python 3 (ipykernel)",
   "language": "python",
   "name": "python3"
  },
  "language_info": {
   "codemirror_mode": {
    "name": "ipython",
    "version": 3
   },
   "file_extension": ".py",
   "mimetype": "text/x-python",
   "name": "python",
   "nbconvert_exporter": "python",
   "pygments_lexer": "ipython3",
   "version": "3.7.13"
  },
  "toc": {
   "base_numbering": 1,
   "nav_menu": {},
   "number_sections": true,
   "sideBar": true,
   "skip_h1_title": false,
   "title_cell": "Table of Contents",
   "title_sidebar": "Contents",
   "toc_cell": false,
   "toc_position": {},
   "toc_section_display": true,
   "toc_window_display": false
  }
 },
 "nbformat": 4,
 "nbformat_minor": 5
}
